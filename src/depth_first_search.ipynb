{
 "cells": [
  {
   "cell_type": "markdown",
   "metadata": {},
   "source": [
    "# Graph visit algorithms"
   ]
  },
  {
   "cell_type": "markdown",
   "metadata": {
    "pycharm": {
     "name": "#%% md\n"
    }
   },
   "source": [
    "## Depth First Search"
   ]
  },
  {
   "cell_type": "code",
   "execution_count": 10,
   "metadata": {
    "pycharm": {
     "is_executing": false,
     "name": "#%%\n"
    }
   },
   "outputs": [
    {
     "name": "stdout",
     "output_type": "stream",
     "text": [
      "4-3 is a Forward arc\n",
      "0-1 is a Forward arc\n",
      "5-5 is a Back arc\n",
      "2-3 is a Cross arc\n"
     ]
    }
   ],
   "source": [
    "def graph_dfs(graph, vertices, oriented=True):\n",
    "\n",
    "    pre = [-1] * vertices\n",
    "    post = [-1] * vertices\n",
    "    st = [-1] * vertices\n",
    "    time = [0]\n",
    "\n",
    "    def dfs_r(edge, pre, post, st, time):\n",
    "\n",
    "        father, child = edge\n",
    "\n",
    "        st[child] = father\n",
    "        time[0] += 1\n",
    "        pre[child] = time[0]\n",
    "\n",
    "        for v in graph[child]:\n",
    "            if pre[v] == -1:\n",
    "                dfs_r((child, v), pre, post, st, time)\n",
    "            else:\n",
    "                father = child\n",
    "\n",
    "                # Not oriented graphs\n",
    "                if not oriented:\n",
    "                    if pre[father] < pre[v]:\n",
    "                        print(f\"{father}-{v} is a T arc\")\n",
    "\n",
    "                # Oriented graphs\n",
    "                else:\n",
    "                    if post[v] == -1:\n",
    "                        print(f\"{father}-{v} is a Back arc\")\n",
    "                    else:\n",
    "                        if pre[v] > pre[father]:\n",
    "                            print(f\"{father}-{v} is a Forward arc\")\n",
    "                        else:\n",
    "                            print(f\"{father}-{v} is a Cross arc\")\n",
    "\n",
    "        time[0] += 1\n",
    "        post[child] = time[0]\n",
    "\n",
    "    for vertex in graph.keys():\n",
    "        if pre[vertex] == -1:\n",
    "            dfs_r((vertex, vertex), pre, post, st, time)\n",
    "            \n",
    "    # print(st)\n",
    "    # print(pre)\n",
    "    # print(post)\n",
    "            \n",
    "\n",
    "g = {0: [4,1],\n",
    "     1: [3],\n",
    "     2: [5,3],\n",
    "     3: [],\n",
    "     4: [1,3],\n",
    "     5: [5]}\n",
    "     \n",
    "graph_dfs(g, 6, True)"
   ]
  },
  {
   "cell_type": "markdown",
   "metadata": {},
   "source": [
    "## Breadth first search"
   ]
  },
  {
   "cell_type": "code",
   "execution_count": 21,
   "metadata": {},
   "outputs": [
    {
     "name": "stdout",
     "output_type": "stream",
     "text": [
      "[0, 0, -1, 1, 0, -1] [0, 1, -1, 2, 1, -1]\n"
     ]
    }
   ],
   "source": [
    "def graph_bfs(graph, n_vertex, start):\n",
    "    \n",
    "    pre = [-1] * n_vertex\n",
    "    st = [-1] * n_vertex\n",
    "    vertices = [i for i in range(n_vertex)]\n",
    "    \n",
    "    \n",
    "    def bfs(pre, st, start):\n",
    "        \n",
    "        queue = []\n",
    "        queue.append(start)\n",
    "        st[start] = start\n",
    "        pre[start] = 0\n",
    "\n",
    "        while len(queue) > 0:\n",
    "\n",
    "            v = queue.pop()\n",
    "\n",
    "            for dest in graph[v]:\n",
    "                if pre[dest] == -1:\n",
    "                    queue.append(dest)\n",
    "                    st[dest] = v \n",
    "                    pre[dest] = pre[v] + 1\n",
    "    \n",
    "    bfs(pre, st, 0)       \n",
    "    return st, pre\n",
    "\n",
    "g = {0: [4,1],\n",
    "     1: [3],\n",
    "     2: [5,3],\n",
    "     3: [],\n",
    "     4: [1,3],\n",
    "     5: [5]}\n",
    "     \n",
    "st, pre = graph_bfs(g, 6, 0)\n",
    "print(st, pre)"
   ]
  },
  {
   "cell_type": "code",
   "execution_count": null,
   "metadata": {},
   "outputs": [],
   "source": []
  }
 ],
 "metadata": {
  "kernelspec": {
   "display_name": "Python 3",
   "language": "python",
   "name": "python3"
  },
  "language_info": {
   "codemirror_mode": {
    "name": "ipython",
    "version": 3
   },
   "file_extension": ".py",
   "mimetype": "text/x-python",
   "name": "python",
   "nbconvert_exporter": "python",
   "pygments_lexer": "ipython3",
   "version": "3.8.0"
  },
  "pycharm": {
   "stem_cell": {
    "cell_type": "raw",
    "metadata": {
     "collapsed": false
    },
    "source": []
   }
  }
 },
 "nbformat": 4,
 "nbformat_minor": 1
}
