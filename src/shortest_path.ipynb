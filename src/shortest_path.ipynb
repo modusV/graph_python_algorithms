{
 "cells": [
  {
   "cell_type": "markdown",
   "metadata": {
    "collapsed": true
   },
   "source": [
    "# Shortest path\n",
    "\n",
    "If exists an edge in which the weight is negative but it doesn't exist a cycle with negative weight:\n",
    "    1. Dijkstra optimal solution is not guaranteed\n",
    "    2. Bellman Ford optimal solution is guaranteed\n",
    "    \n",
    "If exists a cycle with negative weight, the solution does not exists:\n",
    "1. Dijkstra gives a solution without any meaning\n",
    "2. Bellman Ford finds it\n",
    "\n",
    "In unweighted graphs we can use simply Bfs.\n",
    "Remember, the subpath of the shortest path, is still a shortest path."
   ]
  },
  {
   "cell_type": "markdown",
   "metadata": {},
   "source": [
    "## Dijkstra"
   ]
  },
  {
   "cell_type": "code",
   "execution_count": 21,
   "metadata": {},
   "outputs": [
    {
     "name": "stdout",
     "output_type": "stream",
     "text": [
      "Father of 0 is 0\n",
      "Mindist to 0 is 0\n",
      "Father of 1 is 0\n",
      "Mindist to 1 is 4\n",
      "Father of 2 is 1\n",
      "Mindist to 2 is 12\n",
      "Father of 3 is 2\n",
      "Mindist to 3 is 19\n",
      "Father of 4 is 5\n",
      "Mindist to 4 is 21\n",
      "Father of 5 is 6\n",
      "Mindist to 5 is 11\n",
      "Father of 6 is 7\n",
      "Mindist to 6 is 9\n",
      "Father of 7 is 0\n",
      "Mindist to 7 is 8\n",
      "Father of 8 is 2\n",
      "Mindist to 8 is 14\n"
     ]
    }
   ],
   "source": [
    "from heapq import _siftup, _siftdown, heapify, heappush, heappop\n",
    "\n",
    "\n",
    "class Graph():\n",
    "\n",
    "    def __init__(self, vertices):\n",
    "        self.V = vertices\n",
    "        self.graph = [[0 for column in range(vertices)]\n",
    "                      for row in range(vertices)]\n",
    "\n",
    "    def dijkstra(self, start):\n",
    "\n",
    "        dist = [float('Inf')] * self.V\n",
    "        st = [-1] * self.V\n",
    "        pq = []\n",
    "\n",
    "        for i in range(self.V):\n",
    "            heappush(pq, (float('Inf'), i))\n",
    "\n",
    "        st[start] = start\n",
    "        dist[start] = 0\n",
    "\n",
    "        heapupdate(pq, start, 0)\n",
    "\n",
    "        while len(pq) > 0:\n",
    "\n",
    "            current_dist, current_node = heappop(pq)\n",
    "\n",
    "            if current_dist != float('Inf'):\n",
    "                for dest_node in range(self.V):\n",
    "                    if self.graph[current_node][dest_node] > 0 \\\n",
    "                    and dist[dest_node] > dist[current_node] + self.graph[current_node][dest_node]:\n",
    "                        \n",
    "                        dist[dest_node] = dist[current_node] + self.graph[current_node][dest_node]\n",
    "                        heapupdate(pq, dest_node, dist[dest_node])\n",
    "                        st[dest_node] = current_node\n",
    "\n",
    "        for i in range(self.V):\n",
    "            print(f\"Father of {i} is {st[i]}\")\n",
    "            print(f\"Mindist to {i} is {dist[i]}\")\n",
    "\n",
    "\n",
    "def heapupdate(pq, node, new_value):\n",
    "    for i, elem in enumerate(pq):\n",
    "        if elem[1] == node:\n",
    "            break\n",
    "\n",
    "    old = elem[0]\n",
    "    pq[i] = (new_value, elem[1])\n",
    "\n",
    "    if new_value > old:  # value is increased\n",
    "        _siftup(pq, i)\n",
    "    elif new_value < old:  # value is decreased\n",
    "        _siftdown(pq, 0, i)\n",
    "\n",
    "\n",
    "g = Graph(9)\n",
    "g.graph = [[0, 4, 0, 0, 0, 0, 0, 8, 0],\n",
    "           [4, 0, 8, 0, 0, 0, 0, 11, 0],\n",
    "           [0, 8, 0, 7, 0, 4, 0, 0, 2],\n",
    "           [0, 0, 7, 0, 9, 14, 0, 0, 0],\n",
    "           [0, 0, 0, 9, 0, 10, 0, 0, 0],\n",
    "           [0, 0, 4, 14, 10, 0, 2, 0, 0],\n",
    "           [0, 0, 0, 0, 0, 2, 0, 1, 6],\n",
    "           [8, 11, 0, 0, 0, 0, 1, 0, 7],\n",
    "           [0, 0, 2, 0, 0, 0, 6, 7, 0]\n",
    "           ];\n",
    "\n",
    "g.dijkstra(0);"
   ]
  },
  {
   "cell_type": "markdown",
   "metadata": {},
   "source": [
    "## Bellman Ford"
   ]
  },
  {
   "cell_type": "markdown",
   "metadata": {},
   "source": [
    "This is another algorithm used to find the shortest paths.\n",
    "Here can exist edges with negative weight, it is able to reveal cycles with weight < 0\n",
    "\n",
    "It is a greedy algorithm but it gives the optimal solution.\n",
    "\n",
    "The complexity is:\n",
    "1. Initialization `O(|V|)`\n",
    "2. Relaxation steps on the arcs `O(|V||E|)`\n",
    "3. Vth relaxation `O(|E|)\n",
    "4. Total complexity `O(|V|*|E|)`"
   ]
  },
  {
   "cell_type": "code",
   "execution_count": 29,
   "metadata": {},
   "outputs": [
    {
     "name": "stdout",
     "output_type": "stream",
     "text": [
      "[0, -1, 2, -2, 1] [0, 0, 1, 4, 1]\n"
     ]
    },
    {
     "data": {
      "text/plain": [
       "([0, -1, 2, -2, 1], [0, 0, 1, 4, 1], False)"
      ]
     },
     "execution_count": 29,
     "metadata": {},
     "output_type": "execute_result"
    }
   ],
   "source": [
    "class Graph():\n",
    "\n",
    "    def __init__(self, vertices):\n",
    "        self.V = vertices\n",
    "        self.graph = []\n",
    "        \n",
    "    def add_edge(self, u, v, w):\n",
    "        self.graph.append((u, v, w))\n",
    "        \n",
    "    def bellman_ford(self, source):\n",
    "        \n",
    "        dist = [float(\"Inf\")] * self.V \n",
    "        st = [-1] * self.V\n",
    "        st[source] = source\n",
    "        dist[source] = 0\n",
    "        negative_cycle = False\n",
    "        \n",
    "        for i in range(self.V - 1):\n",
    "            \n",
    "            # Iterate over all the edges with respective weight\n",
    "            # If the node is not yet reachable and after the update the distance is less, updated it\n",
    "            for u, v, w in self.graph: \n",
    "                if dist[u] != float(\"Inf\") and dist[u] + w < dist[v]: \n",
    "                        dist[v] = dist[u] + w\n",
    "                        st[v] = u\n",
    "                     \n",
    "            # This second phase is used to detect negative weight cycles. If after the update there is still\n",
    "            # a way of decresing the weigth of the edge, then there is a negative weight cycle\n",
    "            for u, v, w in self.graph: \n",
    "                if dist[u] != float(\"Inf\") and dist[u] + w < dist[v]:\n",
    "                        negative_cycle = True\n",
    "                        print(\"Graph contains negative weight cycle\")\n",
    "                        return\n",
    "                    \n",
    "        print(dist, st)\n",
    "        return dist, st, negative_cycle\n",
    "\n",
    "g = Graph(5) \n",
    "g.add_edge(0, 1, -1) \n",
    "g.add_edge(0, 2, 4) \n",
    "g.add_edge(1, 2, 3) \n",
    "g.add_edge(1, 3, 2) \n",
    "g.add_edge(1, 4, 2) \n",
    "g.add_edge(3, 2, 5) \n",
    "g.add_edge(3, 1, 1) \n",
    "g.add_edge(4, 3, -3) \n",
    "  \n",
    "g.bellman_ford(0) "
   ]
  },
  {
   "cell_type": "code",
   "execution_count": null,
   "metadata": {},
   "outputs": [],
   "source": []
  }
 ],
 "metadata": {
  "kernelspec": {
   "display_name": "Python 3",
   "language": "python",
   "name": "python3"
  },
  "language_info": {
   "codemirror_mode": {
    "name": "ipython",
    "version": 3
   },
   "file_extension": ".py",
   "mimetype": "text/x-python",
   "name": "python",
   "nbconvert_exporter": "python",
   "pygments_lexer": "ipython3",
   "version": "3.8.0"
  },
  "pycharm": {
   "stem_cell": {
    "cell_type": "raw",
    "source": [],
    "metadata": {
     "collapsed": false
    }
   }
  }
 },
 "nbformat": 4,
 "nbformat_minor": 1
}