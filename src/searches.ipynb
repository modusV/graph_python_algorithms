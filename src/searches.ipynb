{
 "cells": [
  {
   "cell_type": "markdown",
   "metadata": {},
   "source": [
    "# Graph visit algorithms"
   ]
  },
  {
   "cell_type": "markdown",
   "metadata": {
    "pycharm": {
     "name": "#%% md\n"
    }
   },
   "source": [
    "## Depth First Search\n",
    "\n",
    "This algorithm allows to visit the graph in depth allows you to create a forest of trees.\n",
    "It works both on oriented and not oriented graphs with a small modification to allow us to identify the relationships between nodes.\n",
    "\n",
    "The data structures are:\n",
    "1. `pre` array, to record when a node is discovered\n",
    "2. `post` array, to record when the elaboration of a node is terminated\n",
    "2. `st` array, to record who is the father of the nodes in the visit\n",
    "\n",
    "The algorithm is used for:\n",
    "1. Finding is a path between two nodes exists\n",
    "2. Find id the graph is cyclic or acyclic\n",
    "    - A graph is acyclic if with the dfs we cannot find any *B* arcs\n",
    "3. Find out if removing an vertex will disconnect the graph\n",
    "    - The root of the dfs tree is an articulation point only if it has at leat two children\n",
    "    - Every other vertex V is an articulation point only if it has a child S such that there is no arc B from S or one of the vertices in its subtree to an ancestor of V\n",
    "4. Find out if removing an edge will disconnet the graph (find bridges)\n",
    "    - A Back arc cannot be a bridge\n",
    "    - A Tree arc is a bridge only if there are not Back arcs that connect one of its descendants to one of his ancestors\n",
    "    - Two algorithms; the simplest is disconnecting an edge at a time and calling the dfs. The other one is more efficient, you can use a `low` variable to record the ancestors of the various nodes\n",
    "\n",
    "5. The completion times in the `post` array give you the inverse topological order of the graph, if it is directed\n",
    "    \n",
    "The complexity of the algorithm is:\n",
    "1. `O(|V + E|)` using the adjacency list\n",
    "2. `O(|V^2|)` using the adjacency matrix"
   ]
  },
  {
   "cell_type": "code",
   "execution_count": 32,
   "metadata": {
    "pycharm": {
     "is_executing": false,
     "name": "#%%\n"
    }
   },
   "outputs": [
    {
     "name": "stdout",
     "output_type": "stream",
     "text": [
      "4-3 is a Forward arc\n",
      "0-1 is a Forward arc\n",
      "5-5 is a Back arc\n",
      "2-3 is a Cross arc\n",
      "[0, 4, 2, 1, 0, 2]\n",
      "[0, 2, 8, 3, 1, 9]\n",
      "[7, 5, 11, 4, 6, 10]\n"
     ]
    }
   ],
   "source": [
    "def graph_dfs(graph, vertices, oriented=True):\n",
    "\n",
    "    pre = [-1] * vertices\n",
    "    post = [-1] * vertices\n",
    "    st = [-1] * vertices\n",
    "    time = [0]\n",
    "\n",
    "    def dfs_r(edge, pre, post, st, time):\n",
    "\n",
    "        father, current = edge\n",
    "\n",
    "        st[current] = father\n",
    "        pre[current] = time[0]\n",
    "        time[0] += 1\n",
    "\n",
    "        for v in graph[current]:\n",
    "            if pre[v] == -1:\n",
    "                dfs_r((current, v), pre, post, st, time)\n",
    "            else:\n",
    "                father = current\n",
    "\n",
    "                # Not oriented graphs\n",
    "                if not oriented:\n",
    "                    if pre[father] < pre[v]:\n",
    "                        print(f\"{father}-{v} is a T arc\")\n",
    "\n",
    "                # Oriented graphs\n",
    "                else:\n",
    "                    if post[v] == -1:\n",
    "                        print(f\"{father}-{v} is a Back arc\")\n",
    "                    else:\n",
    "                        if pre[v] > pre[father]:\n",
    "                            print(f\"{father}-{v} is a Forward arc\")\n",
    "                        else:\n",
    "                            print(f\"{father}-{v} is a Cross arc\")\n",
    "\n",
    "        post[current] = time[0]\n",
    "        time[0] += 1\n",
    "\n",
    "    for vertex in graph.keys():\n",
    "        if pre[vertex] == -1:\n",
    "            dfs_r((vertex, vertex), pre, post, st, time)\n",
    "            \n",
    "    print(st)\n",
    "    print(pre)\n",
    "    print(post)\n",
    "            \n",
    "  \n",
    "\n",
    "g = {0: [4,1],\n",
    "     1: [3],\n",
    "     2: [5,3],\n",
    "     3: [],\n",
    "     4: [1,3],\n",
    "     5: [5]}\n",
    "     \n",
    "graph_dfs(g, 6, True)"
   ]
  },
  {
   "cell_type": "markdown",
   "metadata": {},
   "source": [
    "## Breadth first search\n",
    "\n",
    "This algorithm allows to visit the graph in breadth and see which nodes are connected to the starting point, and which is the distance to them.\n",
    "It works both on oriented and not oriented graphs.\n",
    "\n",
    "The data structures are:\n",
    "1. `pre` array, to record when a node is discovered\n",
    "2. `st` array, to record who is the father of the nodes in the visit\n",
    "\n",
    "The algorithm is used for:\n",
    "1. Finding is a path between two nodes exists\n",
    "2. If modified to Dijkstra algorithm, it allows you to find the shortes path\n",
    "3. Called iteratively, you can count the connected components, meaning how many disconnected components there are in the graph\n",
    "\n",
    "The complexity of the algorithm is:\n",
    "1. `O(|V + E|)` using the adjacency list\n",
    "2. `O(|V^2|)` using the adjacency matrix"
   ]
  },
  {
   "cell_type": "code",
   "execution_count": 23,
   "metadata": {},
   "outputs": [
    {
     "name": "stdout",
     "output_type": "stream",
     "text": [
      "[0, 0, -1, 1, 0, -1] [0, 1, -1, 2, 1, -1]\n"
     ]
    }
   ],
   "source": [
    "def graph_bfs(graph, n_vertex, start):\n",
    "    \n",
    "    pre = [-1] * n_vertex\n",
    "    st = [-1] * n_vertex\n",
    "    vertices = [i for i in range(n_vertex)]\n",
    "    \n",
    "    \n",
    "    def bfs(pre, st, start):\n",
    "        \n",
    "        queue = []\n",
    "        queue.append(start)\n",
    "        st[start] = start\n",
    "        pre[start] = 0\n",
    "\n",
    "        while len(queue) > 0:\n",
    "\n",
    "            v = queue.pop()\n",
    "\n",
    "            for dest in graph[v]:\n",
    "                if pre[dest] == -1:\n",
    "                    queue.append(dest)\n",
    "                    st[dest] = v \n",
    "                    pre[dest] = pre[v] + 1\n",
    "    \n",
    "    bfs(pre, st, 0)       \n",
    "    return st, pre\n",
    "\n",
    "g = {0: [4,1],\n",
    "     1: [3],\n",
    "     2: [5,3],\n",
    "     3: [],\n",
    "     4: [1,3],\n",
    "     5: [5]}\n",
    "     \n",
    "st, pre = graph_bfs(g, 6, 0)\n",
    "print(st, pre)"
   ]
  },
  {
   "cell_type": "markdown",
   "metadata": {},
   "source": []
  },
  {
   "cell_type": "code",
   "execution_count": null,
   "metadata": {},
   "outputs": [],
   "source": []
  }
 ],
 "metadata": {
  "kernelspec": {
   "display_name": "Python 3",
   "language": "python",
   "name": "python3"
  },
  "language_info": {
   "codemirror_mode": {
    "name": "ipython",
    "version": 3
   },
   "file_extension": ".py",
   "mimetype": "text/x-python",
   "name": "python",
   "nbconvert_exporter": "python",
   "pygments_lexer": "ipython3",
   "version": "3.8.0"
  },
  "pycharm": {
   "stem_cell": {
    "cell_type": "raw",
    "metadata": {
     "collapsed": false
    },
    "source": []
   }
  }
 },
 "nbformat": 4,
 "nbformat_minor": 1
}
